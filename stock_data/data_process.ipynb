{
 "cells": [
  {
   "cell_type": "code",
   "execution_count": 1,
   "metadata": {},
   "outputs": [],
   "source": [
    "import pandas as pd"
   ]
  },
  {
   "cell_type": "code",
   "execution_count": 3,
   "metadata": {},
   "outputs": [],
   "source": [
    "def process_data(dataType, name):\n",
    "    base_path = 'train_set/' if dataType == 'train' else 'test_set/'\n",
    "    src_path = base_path + name + '.xlsx'\n",
    "    data = pd.read_excel(src_path)\n",
    "    data['date'] = pd.to_datetime(data['date'])\n",
    "    features = ['open', 'high', 'low', 'close', 'volume', 'rank']\n",
    "    data = data[['date'] + features]\n",
    "    print(\"DataSet: (\", dataType, \") \", name, \" Shape:\", data.shape)\n",
    "    data.to_csv(base_path + name + '.csv', index=False)"
   ]
  },
  {
   "cell_type": "code",
   "execution_count": 4,
   "metadata": {},
   "outputs": [
    {
     "name": "stdout",
     "output_type": "stream",
     "text": [
      "DataSet: ( train )  ST世茂  Shape: (487, 7)\n"
     ]
    }
   ],
   "source": [
    "name = 'ST世茂'\n",
    "process_data('train', name)"
   ]
  }
 ],
 "metadata": {
  "kernelspec": {
   "display_name": "PytorchAI",
   "language": "python",
   "name": "python3"
  },
  "language_info": {
   "codemirror_mode": {
    "name": "ipython",
    "version": 3
   },
   "file_extension": ".py",
   "mimetype": "text/x-python",
   "name": "python",
   "nbconvert_exporter": "python",
   "pygments_lexer": "ipython3",
   "version": "3.12.3"
  }
 },
 "nbformat": 4,
 "nbformat_minor": 2
}
